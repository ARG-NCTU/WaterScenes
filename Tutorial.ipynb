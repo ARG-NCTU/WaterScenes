{
 "cells": [
  {
   "cell_type": "markdown",
   "metadata": {
    "id": "9bLA8qmZPQ5i"
   },
   "source": [
    "# WaterScenes"
   ]
  },
  {
   "cell_type": "markdown",
   "metadata": {
    "id": "0VRvOernQET5"
   },
   "source": [
    "## Google Colab (optional)\n",
    "\n",
    "<br>\n",
    "<a href=\"https://colab.research.google.com/github/WaterScenes/WaterScenes/blob/main/Tutorial.ipynb\">\n",
    "    <img src=\"https://colab.research.google.com/assets/colab-badge.svg\" alt=\"Open In Colab\" align=\"left\">\n",
    "</a>\n",
    "<br>\n",
    "\n",
    "If you are running this notebook in Google Colab, you can uncomment the cell below and run it; everything will be set up nicely for you. Otherwise, manually download the <a target=\"_blank\" href =\"https://drive.google.com/uc?id=1j6BxP6tpaenYl8ADa9v-kC0I_jWob4Ji&export=download\">WaterScenes Samples</a> and set up the `dataset_path`."
   ]
  },
  {
   "cell_type": "code",
   "execution_count": null,
   "metadata": {
    "id": "eXL6zQ7p9ih1"
   },
   "outputs": [],
   "source": [
    "# !pip install gdown &> /dev/null\n",
    "# !gdown 1j6BxP6tpaenYl8ADa9v-kC0I_jWob4Ji\n",
    "# !unzip WaterScenes_Samples.zip &> /dev/null\n",
    "# !pip install WaterScenes==1.0.8"
   ]
  },
  {
   "cell_type": "markdown",
   "metadata": {},
   "source": [
    "## Data Visualizations"
   ]
  },
  {
   "cell_type": "code",
   "execution_count": null,
   "metadata": {
    "id": "rwunXFkCXvjT"
   },
   "outputs": [],
   "source": [
    "%matplotlib inline\n",
    "from WaterScenes.WaterScenes import WaterScenes\n",
    "\n",
    "dataset_path = \"WaterScenes_Samples\"\n",
    "frame = '1664246698.44130'\n",
    "waterscenes = WaterScenes(dataset_path, frame)"
   ]
  },
  {
   "cell_type": "markdown",
   "metadata": {},
   "source": [
    "### Visualization of 2D image and point clouds projection"
   ]
  },
  {
   "cell_type": "code",
   "execution_count": null,
   "metadata": {},
   "outputs": [],
   "source": [
    "waterscenes.visualization(show_labels=False, show_radar_label=True, show_radar=True, plot_figure=True, save_figure=True)\n",
    "waterscenes.visualization(show_labels=False, show_radar_label=False, show_radar=True, plot_figure=True, save_figure=True)"
   ]
  },
  {
   "cell_type": "markdown",
   "metadata": {},
   "source": [
    "### Visualization of 3D point clouds"
   ]
  },
  {
   "cell_type": "code",
   "execution_count": null,
   "metadata": {},
   "outputs": [],
   "source": [
    "waterscenes.visualization3D(frames=1, coordinate='Cartesian')\n",
    "waterscenes.visualization3D(frames=3, coordinate='Cartesian')\n",
    "\n",
    "waterscenes.visualization3D(frames=1, coordinate='World')\n",
    "waterscenes.visualization3D(frames=3, coordinate='World')"
   ]
  },
  {
   "cell_type": "code",
   "execution_count": null,
   "metadata": {},
   "outputs": [],
   "source": []
  }
 ],
 "metadata": {
  "colab": {
   "authorship_tag": "ABX9TyPhVmyJ7r16bGDQnPg/Tcl3",
   "collapsed_sections": [],
   "include_colab_link": true,
   "mount_file_id": "1gcQTNZayeBq_ng_6WqJlFgACovBBH1qd",
   "provenance": []
  },
  "kernelspec": {
   "display_name": "Python 3 (ipykernel)",
   "language": "python",
   "name": "python3"
  },
  "language_info": {
   "codemirror_mode": {
    "name": "ipython",
    "version": 3
   },
   "file_extension": ".py",
   "mimetype": "text/x-python",
   "name": "python",
   "nbconvert_exporter": "python",
   "pygments_lexer": "ipython3",
   "version": "3.8.10"
  }
 },
 "nbformat": 4,
 "nbformat_minor": 1
}
